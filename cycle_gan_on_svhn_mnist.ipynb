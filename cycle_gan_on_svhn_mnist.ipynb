{
 "cells": [
  {
   "cell_type": "code",
   "execution_count": 6,
   "metadata": {},
   "outputs": [],
   "source": [
    "import torch\n",
    "from models.CycleGan import CycleGan\n",
    "from models.SHVN_MNIST_dataset import ShvnMnistDataset, ShvnMnistDataModule\n",
    "from torch.utils.data import DataLoader\n",
    "from torchvision import transforms\n",
    "from PIL import Image\n",
    "import pytorch_lightning as pl\n",
    "from pytorch_lightning.strategies.ddp import DDPStrategy"
   ]
  },
  {
   "cell_type": "code",
   "execution_count": 2,
   "metadata": {},
   "outputs": [],
   "source": [
    "batch_size = 8\n",
    "accelerator = \"cpu\"\n",
    "devices = 1\n",
    "max_epochs = 1\n",
    "num_workers = 0\n",
    "pin_memory = False"
   ]
  },
  {
   "cell_type": "code",
   "execution_count": 5,
   "metadata": {},
   "outputs": [
    {
     "name": "stdout",
     "output_type": "stream",
     "text": [
      "Using downloaded and verified file: ./Data/svhn/train_32x32.mat\n"
     ]
    }
   ],
   "source": [
    "root = \"./Data\"\n",
    "train = ShvnMnistDataset(root, 'train')\n",
    "# train = DataLoader(train, batch_size=batch_size, shuffle=True)\n",
    "# train =  DataLoader(\n",
    "#             train,\n",
    "#             batch_size=batch_size,\n",
    "#             num_workers=num_workers,\n",
    "#             shuffle=True,\n",
    "#             pin_memory=pin_memory,\n",
    "#         )\n",
    "\n",
    "datamodule = ShvnMnistDataModule(\"./Data\")"
   ]
  },
  {
   "cell_type": "code",
   "execution_count": 8,
   "metadata": {},
   "outputs": [
    {
     "name": "stderr",
     "output_type": "stream",
     "text": [
      "GPU available: False, used: False\n",
      "TPU available: False, using: 0 TPU cores\n",
      "IPU available: False, using: 0 IPUs\n",
      "HPU available: False, using: 0 HPUs\n"
     ]
    }
   ],
   "source": [
    "model = CycleGan()\n",
    "\n",
    "trainer = pl.Trainer(accelerator=accelerator, devices=devices, max_epochs=max_epochs)\n"
   ]
  },
  {
   "cell_type": "code",
   "execution_count": 9,
   "metadata": {},
   "outputs": [
    {
     "name": "stdout",
     "output_type": "stream",
     "text": [
      "Using downloaded and verified file: ./Data/svhn/train_32x32.mat\n",
      "Using downloaded and verified file: ./Data/svhn/test_32x32.mat\n",
      "Using downloaded and verified file: ./Data/svhn/test_32x32.mat\n"
     ]
    },
    {
     "name": "stderr",
     "output_type": "stream",
     "text": [
      "\n",
      "  | Name | Type       | Params\n",
      "------------------------------------\n",
      "0 | genX | Sequential | 11.4 M\n",
      "1 | genY | Sequential | 11.4 M\n",
      "2 | disX | Sequential | 2.8 M \n",
      "3 | disY | Sequential | 2.8 M \n",
      "------------------------------------\n",
      "28.3 M    Trainable params\n",
      "0         Non-trainable params\n",
      "28.3 M    Total params\n",
      "113.143   Total estimated model params size (MB)\n"
     ]
    },
    {
     "name": "stdout",
     "output_type": "stream",
     "text": [
      "Sanity Checking DataLoader 0:   0%|          | 0/2 [00:00<?, ?it/s]"
     ]
    },
    {
     "name": "stderr",
     "output_type": "stream",
     "text": [
      "/usr/local/anaconda3/envs/dgm/lib/python3.9/site-packages/pytorch_lightning/trainer/connectors/data_connector.py:430: PossibleUserWarning: The dataloader, val_dataloader, does not have many workers which may be a bottleneck. Consider increasing the value of the `num_workers` argument` (try 16 which is the number of cpus on this machine) in the `DataLoader` init to improve performance.\n",
      "  rank_zero_warn(\n"
     ]
    },
    {
     "name": "stdout",
     "output_type": "stream",
     "text": [
      "At the end of validation                                                   \n",
      "Generating new samples\n"
     ]
    },
    {
     "ename": "TypeError",
     "evalue": "pad(): argument 'input' (position 1) must be Tensor, not str",
     "output_type": "error",
     "traceback": [
      "\u001b[0;31m---------------------------------------------------------------------------\u001b[0m",
      "\u001b[0;31mTypeError\u001b[0m                                 Traceback (most recent call last)",
      "Cell \u001b[0;32mIn[9], line 1\u001b[0m\n\u001b[0;32m----> 1\u001b[0m \u001b[43mtrainer\u001b[49m\u001b[38;5;241;43m.\u001b[39;49m\u001b[43mfit\u001b[49m\u001b[43m(\u001b[49m\u001b[43mmodel\u001b[49m\u001b[43m,\u001b[49m\u001b[43m \u001b[49m\u001b[43mdatamodule\u001b[49m\u001b[38;5;241;43m=\u001b[39;49m\u001b[43mdatamodule\u001b[49m\u001b[43m)\u001b[49m\n",
      "File \u001b[0;32m/usr/local/anaconda3/envs/dgm/lib/python3.9/site-packages/pytorch_lightning/trainer/trainer.py:520\u001b[0m, in \u001b[0;36mTrainer.fit\u001b[0;34m(self, model, train_dataloaders, val_dataloaders, datamodule, ckpt_path)\u001b[0m\n\u001b[1;32m    <a href='file:///usr/local/anaconda3/envs/dgm/lib/python3.9/site-packages/pytorch_lightning/trainer/trainer.py?line=517'>518</a>\u001b[0m model \u001b[39m=\u001b[39m _maybe_unwrap_optimized(model)\n\u001b[1;32m    <a href='file:///usr/local/anaconda3/envs/dgm/lib/python3.9/site-packages/pytorch_lightning/trainer/trainer.py?line=518'>519</a>\u001b[0m \u001b[39mself\u001b[39m\u001b[39m.\u001b[39mstrategy\u001b[39m.\u001b[39m_lightning_module \u001b[39m=\u001b[39m model\n\u001b[0;32m--> <a href='file:///usr/local/anaconda3/envs/dgm/lib/python3.9/site-packages/pytorch_lightning/trainer/trainer.py?line=519'>520</a>\u001b[0m call\u001b[39m.\u001b[39;49m_call_and_handle_interrupt(\n\u001b[1;32m    <a href='file:///usr/local/anaconda3/envs/dgm/lib/python3.9/site-packages/pytorch_lightning/trainer/trainer.py?line=520'>521</a>\u001b[0m     \u001b[39mself\u001b[39;49m, \u001b[39mself\u001b[39;49m\u001b[39m.\u001b[39;49m_fit_impl, model, train_dataloaders, val_dataloaders, datamodule, ckpt_path\n\u001b[1;32m    <a href='file:///usr/local/anaconda3/envs/dgm/lib/python3.9/site-packages/pytorch_lightning/trainer/trainer.py?line=521'>522</a>\u001b[0m )\n",
      "File \u001b[0;32m/usr/local/anaconda3/envs/dgm/lib/python3.9/site-packages/pytorch_lightning/trainer/call.py:44\u001b[0m, in \u001b[0;36m_call_and_handle_interrupt\u001b[0;34m(trainer, trainer_fn, *args, **kwargs)\u001b[0m\n\u001b[1;32m     <a href='file:///usr/local/anaconda3/envs/dgm/lib/python3.9/site-packages/pytorch_lightning/trainer/call.py?line=41'>42</a>\u001b[0m         \u001b[39mreturn\u001b[39;00m trainer\u001b[39m.\u001b[39mstrategy\u001b[39m.\u001b[39mlauncher\u001b[39m.\u001b[39mlaunch(trainer_fn, \u001b[39m*\u001b[39margs, trainer\u001b[39m=\u001b[39mtrainer, \u001b[39m*\u001b[39m\u001b[39m*\u001b[39mkwargs)\n\u001b[1;32m     <a href='file:///usr/local/anaconda3/envs/dgm/lib/python3.9/site-packages/pytorch_lightning/trainer/call.py?line=42'>43</a>\u001b[0m     \u001b[39melse\u001b[39;00m:\n\u001b[0;32m---> <a href='file:///usr/local/anaconda3/envs/dgm/lib/python3.9/site-packages/pytorch_lightning/trainer/call.py?line=43'>44</a>\u001b[0m         \u001b[39mreturn\u001b[39;00m trainer_fn(\u001b[39m*\u001b[39;49margs, \u001b[39m*\u001b[39;49m\u001b[39m*\u001b[39;49mkwargs)\n\u001b[1;32m     <a href='file:///usr/local/anaconda3/envs/dgm/lib/python3.9/site-packages/pytorch_lightning/trainer/call.py?line=45'>46</a>\u001b[0m \u001b[39mexcept\u001b[39;00m _TunerExitException:\n\u001b[1;32m     <a href='file:///usr/local/anaconda3/envs/dgm/lib/python3.9/site-packages/pytorch_lightning/trainer/call.py?line=46'>47</a>\u001b[0m     _call_teardown_hook(trainer)\n",
      "File \u001b[0;32m/usr/local/anaconda3/envs/dgm/lib/python3.9/site-packages/pytorch_lightning/trainer/trainer.py:559\u001b[0m, in \u001b[0;36mTrainer._fit_impl\u001b[0;34m(self, model, train_dataloaders, val_dataloaders, datamodule, ckpt_path)\u001b[0m\n\u001b[1;32m    <a href='file:///usr/local/anaconda3/envs/dgm/lib/python3.9/site-packages/pytorch_lightning/trainer/trainer.py?line=548'>549</a>\u001b[0m \u001b[39mself\u001b[39m\u001b[39m.\u001b[39m_data_connector\u001b[39m.\u001b[39mattach_data(\n\u001b[1;32m    <a href='file:///usr/local/anaconda3/envs/dgm/lib/python3.9/site-packages/pytorch_lightning/trainer/trainer.py?line=549'>550</a>\u001b[0m     model, train_dataloaders\u001b[39m=\u001b[39mtrain_dataloaders, val_dataloaders\u001b[39m=\u001b[39mval_dataloaders, datamodule\u001b[39m=\u001b[39mdatamodule\n\u001b[1;32m    <a href='file:///usr/local/anaconda3/envs/dgm/lib/python3.9/site-packages/pytorch_lightning/trainer/trainer.py?line=550'>551</a>\u001b[0m )\n\u001b[1;32m    <a href='file:///usr/local/anaconda3/envs/dgm/lib/python3.9/site-packages/pytorch_lightning/trainer/trainer.py?line=552'>553</a>\u001b[0m ckpt_path \u001b[39m=\u001b[39m \u001b[39mself\u001b[39m\u001b[39m.\u001b[39m_checkpoint_connector\u001b[39m.\u001b[39m_select_ckpt_path(\n\u001b[1;32m    <a href='file:///usr/local/anaconda3/envs/dgm/lib/python3.9/site-packages/pytorch_lightning/trainer/trainer.py?line=553'>554</a>\u001b[0m     \u001b[39mself\u001b[39m\u001b[39m.\u001b[39mstate\u001b[39m.\u001b[39mfn,\n\u001b[1;32m    <a href='file:///usr/local/anaconda3/envs/dgm/lib/python3.9/site-packages/pytorch_lightning/trainer/trainer.py?line=554'>555</a>\u001b[0m     ckpt_path,\n\u001b[1;32m    <a href='file:///usr/local/anaconda3/envs/dgm/lib/python3.9/site-packages/pytorch_lightning/trainer/trainer.py?line=555'>556</a>\u001b[0m     model_provided\u001b[39m=\u001b[39m\u001b[39mTrue\u001b[39;00m,\n\u001b[1;32m    <a href='file:///usr/local/anaconda3/envs/dgm/lib/python3.9/site-packages/pytorch_lightning/trainer/trainer.py?line=556'>557</a>\u001b[0m     model_connected\u001b[39m=\u001b[39m\u001b[39mself\u001b[39m\u001b[39m.\u001b[39mlightning_module \u001b[39mis\u001b[39;00m \u001b[39mnot\u001b[39;00m \u001b[39mNone\u001b[39;00m,\n\u001b[1;32m    <a href='file:///usr/local/anaconda3/envs/dgm/lib/python3.9/site-packages/pytorch_lightning/trainer/trainer.py?line=557'>558</a>\u001b[0m )\n\u001b[0;32m--> <a href='file:///usr/local/anaconda3/envs/dgm/lib/python3.9/site-packages/pytorch_lightning/trainer/trainer.py?line=558'>559</a>\u001b[0m \u001b[39mself\u001b[39;49m\u001b[39m.\u001b[39;49m_run(model, ckpt_path\u001b[39m=\u001b[39;49mckpt_path)\n\u001b[1;32m    <a href='file:///usr/local/anaconda3/envs/dgm/lib/python3.9/site-packages/pytorch_lightning/trainer/trainer.py?line=560'>561</a>\u001b[0m \u001b[39massert\u001b[39;00m \u001b[39mself\u001b[39m\u001b[39m.\u001b[39mstate\u001b[39m.\u001b[39mstopped\n\u001b[1;32m    <a href='file:///usr/local/anaconda3/envs/dgm/lib/python3.9/site-packages/pytorch_lightning/trainer/trainer.py?line=561'>562</a>\u001b[0m \u001b[39mself\u001b[39m\u001b[39m.\u001b[39mtraining \u001b[39m=\u001b[39m \u001b[39mFalse\u001b[39;00m\n",
      "File \u001b[0;32m/usr/local/anaconda3/envs/dgm/lib/python3.9/site-packages/pytorch_lightning/trainer/trainer.py:935\u001b[0m, in \u001b[0;36mTrainer._run\u001b[0;34m(self, model, ckpt_path)\u001b[0m\n\u001b[1;32m    <a href='file:///usr/local/anaconda3/envs/dgm/lib/python3.9/site-packages/pytorch_lightning/trainer/trainer.py?line=929'>930</a>\u001b[0m \u001b[39mself\u001b[39m\u001b[39m.\u001b[39m_signal_connector\u001b[39m.\u001b[39mregister_signal_handlers()\n\u001b[1;32m    <a href='file:///usr/local/anaconda3/envs/dgm/lib/python3.9/site-packages/pytorch_lightning/trainer/trainer.py?line=931'>932</a>\u001b[0m \u001b[39m# ----------------------------\u001b[39;00m\n\u001b[1;32m    <a href='file:///usr/local/anaconda3/envs/dgm/lib/python3.9/site-packages/pytorch_lightning/trainer/trainer.py?line=932'>933</a>\u001b[0m \u001b[39m# RUN THE TRAINER\u001b[39;00m\n\u001b[1;32m    <a href='file:///usr/local/anaconda3/envs/dgm/lib/python3.9/site-packages/pytorch_lightning/trainer/trainer.py?line=933'>934</a>\u001b[0m \u001b[39m# ----------------------------\u001b[39;00m\n\u001b[0;32m--> <a href='file:///usr/local/anaconda3/envs/dgm/lib/python3.9/site-packages/pytorch_lightning/trainer/trainer.py?line=934'>935</a>\u001b[0m results \u001b[39m=\u001b[39m \u001b[39mself\u001b[39;49m\u001b[39m.\u001b[39;49m_run_stage()\n\u001b[1;32m    <a href='file:///usr/local/anaconda3/envs/dgm/lib/python3.9/site-packages/pytorch_lightning/trainer/trainer.py?line=936'>937</a>\u001b[0m \u001b[39m# ----------------------------\u001b[39;00m\n\u001b[1;32m    <a href='file:///usr/local/anaconda3/envs/dgm/lib/python3.9/site-packages/pytorch_lightning/trainer/trainer.py?line=937'>938</a>\u001b[0m \u001b[39m# POST-Training CLEAN UP\u001b[39;00m\n\u001b[1;32m    <a href='file:///usr/local/anaconda3/envs/dgm/lib/python3.9/site-packages/pytorch_lightning/trainer/trainer.py?line=938'>939</a>\u001b[0m \u001b[39m# ----------------------------\u001b[39;00m\n\u001b[1;32m    <a href='file:///usr/local/anaconda3/envs/dgm/lib/python3.9/site-packages/pytorch_lightning/trainer/trainer.py?line=939'>940</a>\u001b[0m log\u001b[39m.\u001b[39mdebug(\u001b[39mf\u001b[39m\u001b[39m\"\u001b[39m\u001b[39m{\u001b[39;00m\u001b[39mself\u001b[39m\u001b[39m.\u001b[39m\u001b[39m__class__\u001b[39m\u001b[39m.\u001b[39m\u001b[39m__name__\u001b[39m\u001b[39m}\u001b[39;00m\u001b[39m: trainer tearing down\u001b[39m\u001b[39m\"\u001b[39m)\n",
      "File \u001b[0;32m/usr/local/anaconda3/envs/dgm/lib/python3.9/site-packages/pytorch_lightning/trainer/trainer.py:976\u001b[0m, in \u001b[0;36mTrainer._run_stage\u001b[0;34m(self)\u001b[0m\n\u001b[1;32m    <a href='file:///usr/local/anaconda3/envs/dgm/lib/python3.9/site-packages/pytorch_lightning/trainer/trainer.py?line=973'>974</a>\u001b[0m \u001b[39mif\u001b[39;00m \u001b[39mself\u001b[39m\u001b[39m.\u001b[39mtraining:\n\u001b[1;32m    <a href='file:///usr/local/anaconda3/envs/dgm/lib/python3.9/site-packages/pytorch_lightning/trainer/trainer.py?line=974'>975</a>\u001b[0m     \u001b[39mwith\u001b[39;00m isolate_rng():\n\u001b[0;32m--> <a href='file:///usr/local/anaconda3/envs/dgm/lib/python3.9/site-packages/pytorch_lightning/trainer/trainer.py?line=975'>976</a>\u001b[0m         \u001b[39mself\u001b[39;49m\u001b[39m.\u001b[39;49m_run_sanity_check()\n\u001b[1;32m    <a href='file:///usr/local/anaconda3/envs/dgm/lib/python3.9/site-packages/pytorch_lightning/trainer/trainer.py?line=976'>977</a>\u001b[0m     \u001b[39mwith\u001b[39;00m torch\u001b[39m.\u001b[39mautograd\u001b[39m.\u001b[39mset_detect_anomaly(\u001b[39mself\u001b[39m\u001b[39m.\u001b[39m_detect_anomaly):\n\u001b[1;32m    <a href='file:///usr/local/anaconda3/envs/dgm/lib/python3.9/site-packages/pytorch_lightning/trainer/trainer.py?line=977'>978</a>\u001b[0m         \u001b[39mself\u001b[39m\u001b[39m.\u001b[39mfit_loop\u001b[39m.\u001b[39mrun()\n",
      "File \u001b[0;32m/usr/local/anaconda3/envs/dgm/lib/python3.9/site-packages/pytorch_lightning/trainer/trainer.py:1005\u001b[0m, in \u001b[0;36mTrainer._run_sanity_check\u001b[0;34m(self)\u001b[0m\n\u001b[1;32m   <a href='file:///usr/local/anaconda3/envs/dgm/lib/python3.9/site-packages/pytorch_lightning/trainer/trainer.py?line=1001'>1002</a>\u001b[0m call\u001b[39m.\u001b[39m_call_callback_hooks(\u001b[39mself\u001b[39m, \u001b[39m\"\u001b[39m\u001b[39mon_sanity_check_start\u001b[39m\u001b[39m\"\u001b[39m)\n\u001b[1;32m   <a href='file:///usr/local/anaconda3/envs/dgm/lib/python3.9/site-packages/pytorch_lightning/trainer/trainer.py?line=1003'>1004</a>\u001b[0m \u001b[39m# run eval step\u001b[39;00m\n\u001b[0;32m-> <a href='file:///usr/local/anaconda3/envs/dgm/lib/python3.9/site-packages/pytorch_lightning/trainer/trainer.py?line=1004'>1005</a>\u001b[0m val_loop\u001b[39m.\u001b[39;49mrun()\n\u001b[1;32m   <a href='file:///usr/local/anaconda3/envs/dgm/lib/python3.9/site-packages/pytorch_lightning/trainer/trainer.py?line=1006'>1007</a>\u001b[0m call\u001b[39m.\u001b[39m_call_callback_hooks(\u001b[39mself\u001b[39m, \u001b[39m\"\u001b[39m\u001b[39mon_sanity_check_end\u001b[39m\u001b[39m\"\u001b[39m)\n\u001b[1;32m   <a href='file:///usr/local/anaconda3/envs/dgm/lib/python3.9/site-packages/pytorch_lightning/trainer/trainer.py?line=1008'>1009</a>\u001b[0m \u001b[39m# reset logger connector\u001b[39;00m\n",
      "File \u001b[0;32m/usr/local/anaconda3/envs/dgm/lib/python3.9/site-packages/pytorch_lightning/loops/utilities.py:177\u001b[0m, in \u001b[0;36m_no_grad_context.<locals>._decorator\u001b[0;34m(self, *args, **kwargs)\u001b[0m\n\u001b[1;32m    <a href='file:///usr/local/anaconda3/envs/dgm/lib/python3.9/site-packages/pytorch_lightning/loops/utilities.py?line=174'>175</a>\u001b[0m     context_manager \u001b[39m=\u001b[39m torch\u001b[39m.\u001b[39mno_grad\n\u001b[1;32m    <a href='file:///usr/local/anaconda3/envs/dgm/lib/python3.9/site-packages/pytorch_lightning/loops/utilities.py?line=175'>176</a>\u001b[0m \u001b[39mwith\u001b[39;00m context_manager():\n\u001b[0;32m--> <a href='file:///usr/local/anaconda3/envs/dgm/lib/python3.9/site-packages/pytorch_lightning/loops/utilities.py?line=176'>177</a>\u001b[0m     \u001b[39mreturn\u001b[39;00m loop_run(\u001b[39mself\u001b[39;49m, \u001b[39m*\u001b[39;49margs, \u001b[39m*\u001b[39;49m\u001b[39m*\u001b[39;49mkwargs)\n",
      "File \u001b[0;32m/usr/local/anaconda3/envs/dgm/lib/python3.9/site-packages/pytorch_lightning/loops/evaluation_loop.py:122\u001b[0m, in \u001b[0;36m_EvaluationLoop.run\u001b[0;34m(self)\u001b[0m\n\u001b[1;32m    <a href='file:///usr/local/anaconda3/envs/dgm/lib/python3.9/site-packages/pytorch_lightning/loops/evaluation_loop.py?line=119'>120</a>\u001b[0m         \u001b[39mself\u001b[39m\u001b[39m.\u001b[39m_restarting \u001b[39m=\u001b[39m \u001b[39mFalse\u001b[39;00m\n\u001b[1;32m    <a href='file:///usr/local/anaconda3/envs/dgm/lib/python3.9/site-packages/pytorch_lightning/loops/evaluation_loop.py?line=120'>121</a>\u001b[0m \u001b[39mself\u001b[39m\u001b[39m.\u001b[39m_store_dataloader_outputs()\n\u001b[0;32m--> <a href='file:///usr/local/anaconda3/envs/dgm/lib/python3.9/site-packages/pytorch_lightning/loops/evaluation_loop.py?line=121'>122</a>\u001b[0m \u001b[39mreturn\u001b[39;00m \u001b[39mself\u001b[39;49m\u001b[39m.\u001b[39;49mon_run_end()\n",
      "File \u001b[0;32m/usr/local/anaconda3/envs/dgm/lib/python3.9/site-packages/pytorch_lightning/loops/evaluation_loop.py:258\u001b[0m, in \u001b[0;36m_EvaluationLoop.on_run_end\u001b[0;34m(self)\u001b[0m\n\u001b[1;32m    <a href='file:///usr/local/anaconda3/envs/dgm/lib/python3.9/site-packages/pytorch_lightning/loops/evaluation_loop.py?line=254'>255</a>\u001b[0m \u001b[39mself\u001b[39m\u001b[39m.\u001b[39mtrainer\u001b[39m.\u001b[39m_logger_connector\u001b[39m.\u001b[39mlog_eval_end_metrics(all_logged_outputs)\n\u001b[1;32m    <a href='file:///usr/local/anaconda3/envs/dgm/lib/python3.9/site-packages/pytorch_lightning/loops/evaluation_loop.py?line=256'>257</a>\u001b[0m \u001b[39m# hook\u001b[39;00m\n\u001b[0;32m--> <a href='file:///usr/local/anaconda3/envs/dgm/lib/python3.9/site-packages/pytorch_lightning/loops/evaluation_loop.py?line=257'>258</a>\u001b[0m \u001b[39mself\u001b[39;49m\u001b[39m.\u001b[39;49m_on_evaluation_end()\n\u001b[1;32m    <a href='file:///usr/local/anaconda3/envs/dgm/lib/python3.9/site-packages/pytorch_lightning/loops/evaluation_loop.py?line=259'>260</a>\u001b[0m \u001b[39m# enable train mode again\u001b[39;00m\n\u001b[1;32m    <a href='file:///usr/local/anaconda3/envs/dgm/lib/python3.9/site-packages/pytorch_lightning/loops/evaluation_loop.py?line=260'>261</a>\u001b[0m \u001b[39mself\u001b[39m\u001b[39m.\u001b[39m_on_evaluation_model_train()\n",
      "File \u001b[0;32m/usr/local/anaconda3/envs/dgm/lib/python3.9/site-packages/pytorch_lightning/loops/evaluation_loop.py:304\u001b[0m, in \u001b[0;36m_EvaluationLoop._on_evaluation_end\u001b[0;34m(self, *args, **kwargs)\u001b[0m\n\u001b[1;32m    <a href='file:///usr/local/anaconda3/envs/dgm/lib/python3.9/site-packages/pytorch_lightning/loops/evaluation_loop.py?line=301'>302</a>\u001b[0m hook_name \u001b[39m=\u001b[39m \u001b[39m\"\u001b[39m\u001b[39mon_test_end\u001b[39m\u001b[39m\"\u001b[39m \u001b[39mif\u001b[39;00m trainer\u001b[39m.\u001b[39mtesting \u001b[39melse\u001b[39;00m \u001b[39m\"\u001b[39m\u001b[39mon_validation_end\u001b[39m\u001b[39m\"\u001b[39m\n\u001b[1;32m    <a href='file:///usr/local/anaconda3/envs/dgm/lib/python3.9/site-packages/pytorch_lightning/loops/evaluation_loop.py?line=302'>303</a>\u001b[0m call\u001b[39m.\u001b[39m_call_callback_hooks(trainer, hook_name, \u001b[39m*\u001b[39margs, \u001b[39m*\u001b[39m\u001b[39m*\u001b[39mkwargs)\n\u001b[0;32m--> <a href='file:///usr/local/anaconda3/envs/dgm/lib/python3.9/site-packages/pytorch_lightning/loops/evaluation_loop.py?line=303'>304</a>\u001b[0m call\u001b[39m.\u001b[39;49m_call_lightning_module_hook(trainer, hook_name, \u001b[39m*\u001b[39;49margs, \u001b[39m*\u001b[39;49m\u001b[39m*\u001b[39;49mkwargs)\n\u001b[1;32m    <a href='file:///usr/local/anaconda3/envs/dgm/lib/python3.9/site-packages/pytorch_lightning/loops/evaluation_loop.py?line=304'>305</a>\u001b[0m call\u001b[39m.\u001b[39m_call_strategy_hook(trainer, hook_name, \u001b[39m*\u001b[39margs, \u001b[39m*\u001b[39m\u001b[39m*\u001b[39mkwargs)\n\u001b[1;32m    <a href='file:///usr/local/anaconda3/envs/dgm/lib/python3.9/site-packages/pytorch_lightning/loops/evaluation_loop.py?line=306'>307</a>\u001b[0m \u001b[39m# reset the logger connector state\u001b[39;00m\n",
      "File \u001b[0;32m/usr/local/anaconda3/envs/dgm/lib/python3.9/site-packages/pytorch_lightning/trainer/call.py:142\u001b[0m, in \u001b[0;36m_call_lightning_module_hook\u001b[0;34m(trainer, hook_name, pl_module, *args, **kwargs)\u001b[0m\n\u001b[1;32m    <a href='file:///usr/local/anaconda3/envs/dgm/lib/python3.9/site-packages/pytorch_lightning/trainer/call.py?line=138'>139</a>\u001b[0m pl_module\u001b[39m.\u001b[39m_current_fx_name \u001b[39m=\u001b[39m hook_name\n\u001b[1;32m    <a href='file:///usr/local/anaconda3/envs/dgm/lib/python3.9/site-packages/pytorch_lightning/trainer/call.py?line=140'>141</a>\u001b[0m \u001b[39mwith\u001b[39;00m trainer\u001b[39m.\u001b[39mprofiler\u001b[39m.\u001b[39mprofile(\u001b[39mf\u001b[39m\u001b[39m\"\u001b[39m\u001b[39m[LightningModule]\u001b[39m\u001b[39m{\u001b[39;00mpl_module\u001b[39m.\u001b[39m\u001b[39m__class__\u001b[39m\u001b[39m.\u001b[39m\u001b[39m__name__\u001b[39m\u001b[39m}\u001b[39;00m\u001b[39m.\u001b[39m\u001b[39m{\u001b[39;00mhook_name\u001b[39m}\u001b[39;00m\u001b[39m\"\u001b[39m):\n\u001b[0;32m--> <a href='file:///usr/local/anaconda3/envs/dgm/lib/python3.9/site-packages/pytorch_lightning/trainer/call.py?line=141'>142</a>\u001b[0m     output \u001b[39m=\u001b[39m fn(\u001b[39m*\u001b[39;49margs, \u001b[39m*\u001b[39;49m\u001b[39m*\u001b[39;49mkwargs)\n\u001b[1;32m    <a href='file:///usr/local/anaconda3/envs/dgm/lib/python3.9/site-packages/pytorch_lightning/trainer/call.py?line=143'>144</a>\u001b[0m \u001b[39m# restore current_fx when nested context\u001b[39;00m\n\u001b[1;32m    <a href='file:///usr/local/anaconda3/envs/dgm/lib/python3.9/site-packages/pytorch_lightning/trainer/call.py?line=144'>145</a>\u001b[0m pl_module\u001b[39m.\u001b[39m_current_fx_name \u001b[39m=\u001b[39m prev_fx_name\n",
      "File \u001b[0;32m~/repos/cyclegans/models/CycleGan.py:183\u001b[0m, in \u001b[0;36mCycleGan.on_validation_end\u001b[0;34m(self)\u001b[0m\n\u001b[1;32m    <a href='file:///Users/shuagarw/repos/cyclegans/models/CycleGan.py?line=180'>181</a>\u001b[0m \u001b[39mdef\u001b[39;00m \u001b[39mon_validation_end\u001b[39m(\u001b[39mself\u001b[39m) \u001b[39m-\u001b[39m\u001b[39m>\u001b[39m \u001b[39mNone\u001b[39;00m:\n\u001b[1;32m    <a href='file:///Users/shuagarw/repos/cyclegans/models/CycleGan.py?line=181'>182</a>\u001b[0m     \u001b[39mprint\u001b[39m(\u001b[39m\"\u001b[39m\u001b[39mAt the end of validation\u001b[39m\u001b[39m\"\u001b[39m)\n\u001b[0;32m--> <a href='file:///Users/shuagarw/repos/cyclegans/models/CycleGan.py?line=182'>183</a>\u001b[0m     \u001b[39mself\u001b[39;49m\u001b[39m.\u001b[39;49msample_images()\n",
      "File \u001b[0;32m~/repos/cyclegans/models/CycleGan.py:162\u001b[0m, in \u001b[0;36mCycleGan.sample_images\u001b[0;34m(self)\u001b[0m\n\u001b[1;32m    <a href='file:///Users/shuagarw/repos/cyclegans/models/CycleGan.py?line=159'>160</a>\u001b[0m \u001b[39mprint\u001b[39m(\u001b[39m\"\u001b[39m\u001b[39mGenerating new samples\u001b[39m\u001b[39m\"\u001b[39m)\n\u001b[1;32m    <a href='file:///Users/shuagarw/repos/cyclegans/models/CycleGan.py?line=160'>161</a>\u001b[0m test_image_A, test_image_B \u001b[39m=\u001b[39m \u001b[39mnext\u001b[39m(\u001b[39miter\u001b[39m(\u001b[39mself\u001b[39m\u001b[39m.\u001b[39mtrainer\u001b[39m.\u001b[39mdatamodule\u001b[39m.\u001b[39mtest_dataloader()))\n\u001b[0;32m--> <a href='file:///Users/shuagarw/repos/cyclegans/models/CycleGan.py?line=161'>162</a>\u001b[0m translated_images \u001b[39m=\u001b[39m \u001b[39mself\u001b[39;49m\u001b[39m.\u001b[39;49mgenX(test_image_A)\n\u001b[1;32m    <a href='file:///Users/shuagarw/repos/cyclegans/models/CycleGan.py?line=162'>163</a>\u001b[0m image_matrix \u001b[39m=\u001b[39m np\u001b[39m.\u001b[39mappend(test_image_A, translated_images, axis\u001b[39m=\u001b[39m\u001b[39m0\u001b[39m)\n\u001b[1;32m    <a href='file:///Users/shuagarw/repos/cyclegans/models/CycleGan.py?line=165'>166</a>\u001b[0m vutils\u001b[39m.\u001b[39msave_image(image_matrix\u001b[39m.\u001b[39mcpu()\u001b[39m.\u001b[39mdata,\n\u001b[1;32m    <a href='file:///Users/shuagarw/repos/cyclegans/models/CycleGan.py?line=166'>167</a>\u001b[0m                       os\u001b[39m.\u001b[39mpath\u001b[39m.\u001b[39mjoin(\u001b[39m\"\u001b[39m\u001b[39m./Data/results/\u001b[39m\u001b[39m\"\u001b[39m , \n\u001b[1;32m    <a href='file:///Users/shuagarw/repos/cyclegans/models/CycleGan.py?line=167'>168</a>\u001b[0m                                    \u001b[39m\"\u001b[39m\u001b[39mSamples\u001b[39m\u001b[39m\"\u001b[39m,      \n\u001b[1;32m    <a href='file:///Users/shuagarw/repos/cyclegans/models/CycleGan.py?line=168'>169</a>\u001b[0m                                    \u001b[39mf\u001b[39m\u001b[39m\"\u001b[39m\u001b[39mCycle_GAN_Epoch_\u001b[39m\u001b[39m{\u001b[39;00m\u001b[39mself\u001b[39m\u001b[39m.\u001b[39mcurrent_epoch\u001b[39m}\u001b[39;00m\u001b[39m.png\u001b[39m\u001b[39m\"\u001b[39m),\n\u001b[1;32m    <a href='file:///Users/shuagarw/repos/cyclegans/models/CycleGan.py?line=169'>170</a>\u001b[0m                       normalize\u001b[39m=\u001b[39m\u001b[39mTrue\u001b[39;00m,\n\u001b[1;32m    <a href='file:///Users/shuagarw/repos/cyclegans/models/CycleGan.py?line=170'>171</a>\u001b[0m                       nrow\u001b[39m=\u001b[39m\u001b[39m4\u001b[39m)\n",
      "File \u001b[0;32m/usr/local/anaconda3/envs/dgm/lib/python3.9/site-packages/torch/nn/modules/module.py:1501\u001b[0m, in \u001b[0;36mModule._call_impl\u001b[0;34m(self, *args, **kwargs)\u001b[0m\n\u001b[1;32m   <a href='file:///usr/local/anaconda3/envs/dgm/lib/python3.9/site-packages/torch/nn/modules/module.py?line=1495'>1496</a>\u001b[0m \u001b[39m# If we don't have any hooks, we want to skip the rest of the logic in\u001b[39;00m\n\u001b[1;32m   <a href='file:///usr/local/anaconda3/envs/dgm/lib/python3.9/site-packages/torch/nn/modules/module.py?line=1496'>1497</a>\u001b[0m \u001b[39m# this function, and just call forward.\u001b[39;00m\n\u001b[1;32m   <a href='file:///usr/local/anaconda3/envs/dgm/lib/python3.9/site-packages/torch/nn/modules/module.py?line=1497'>1498</a>\u001b[0m \u001b[39mif\u001b[39;00m \u001b[39mnot\u001b[39;00m (\u001b[39mself\u001b[39m\u001b[39m.\u001b[39m_backward_hooks \u001b[39mor\u001b[39;00m \u001b[39mself\u001b[39m\u001b[39m.\u001b[39m_backward_pre_hooks \u001b[39mor\u001b[39;00m \u001b[39mself\u001b[39m\u001b[39m.\u001b[39m_forward_hooks \u001b[39mor\u001b[39;00m \u001b[39mself\u001b[39m\u001b[39m.\u001b[39m_forward_pre_hooks\n\u001b[1;32m   <a href='file:///usr/local/anaconda3/envs/dgm/lib/python3.9/site-packages/torch/nn/modules/module.py?line=1498'>1499</a>\u001b[0m         \u001b[39mor\u001b[39;00m _global_backward_pre_hooks \u001b[39mor\u001b[39;00m _global_backward_hooks\n\u001b[1;32m   <a href='file:///usr/local/anaconda3/envs/dgm/lib/python3.9/site-packages/torch/nn/modules/module.py?line=1499'>1500</a>\u001b[0m         \u001b[39mor\u001b[39;00m _global_forward_hooks \u001b[39mor\u001b[39;00m _global_forward_pre_hooks):\n\u001b[0;32m-> <a href='file:///usr/local/anaconda3/envs/dgm/lib/python3.9/site-packages/torch/nn/modules/module.py?line=1500'>1501</a>\u001b[0m     \u001b[39mreturn\u001b[39;00m forward_call(\u001b[39m*\u001b[39;49margs, \u001b[39m*\u001b[39;49m\u001b[39m*\u001b[39;49mkwargs)\n\u001b[1;32m   <a href='file:///usr/local/anaconda3/envs/dgm/lib/python3.9/site-packages/torch/nn/modules/module.py?line=1501'>1502</a>\u001b[0m \u001b[39m# Do not call functions when jit is used\u001b[39;00m\n\u001b[1;32m   <a href='file:///usr/local/anaconda3/envs/dgm/lib/python3.9/site-packages/torch/nn/modules/module.py?line=1502'>1503</a>\u001b[0m full_backward_hooks, non_full_backward_hooks \u001b[39m=\u001b[39m [], []\n",
      "File \u001b[0;32m/usr/local/anaconda3/envs/dgm/lib/python3.9/site-packages/torch/nn/modules/container.py:217\u001b[0m, in \u001b[0;36mSequential.forward\u001b[0;34m(self, input)\u001b[0m\n\u001b[1;32m    <a href='file:///usr/local/anaconda3/envs/dgm/lib/python3.9/site-packages/torch/nn/modules/container.py?line=214'>215</a>\u001b[0m \u001b[39mdef\u001b[39;00m \u001b[39mforward\u001b[39m(\u001b[39mself\u001b[39m, \u001b[39minput\u001b[39m):\n\u001b[1;32m    <a href='file:///usr/local/anaconda3/envs/dgm/lib/python3.9/site-packages/torch/nn/modules/container.py?line=215'>216</a>\u001b[0m     \u001b[39mfor\u001b[39;00m module \u001b[39min\u001b[39;00m \u001b[39mself\u001b[39m:\n\u001b[0;32m--> <a href='file:///usr/local/anaconda3/envs/dgm/lib/python3.9/site-packages/torch/nn/modules/container.py?line=216'>217</a>\u001b[0m         \u001b[39minput\u001b[39m \u001b[39m=\u001b[39m module(\u001b[39minput\u001b[39;49m)\n\u001b[1;32m    <a href='file:///usr/local/anaconda3/envs/dgm/lib/python3.9/site-packages/torch/nn/modules/container.py?line=217'>218</a>\u001b[0m     \u001b[39mreturn\u001b[39;00m \u001b[39minput\u001b[39m\n",
      "File \u001b[0;32m/usr/local/anaconda3/envs/dgm/lib/python3.9/site-packages/torch/nn/modules/module.py:1501\u001b[0m, in \u001b[0;36mModule._call_impl\u001b[0;34m(self, *args, **kwargs)\u001b[0m\n\u001b[1;32m   <a href='file:///usr/local/anaconda3/envs/dgm/lib/python3.9/site-packages/torch/nn/modules/module.py?line=1495'>1496</a>\u001b[0m \u001b[39m# If we don't have any hooks, we want to skip the rest of the logic in\u001b[39;00m\n\u001b[1;32m   <a href='file:///usr/local/anaconda3/envs/dgm/lib/python3.9/site-packages/torch/nn/modules/module.py?line=1496'>1497</a>\u001b[0m \u001b[39m# this function, and just call forward.\u001b[39;00m\n\u001b[1;32m   <a href='file:///usr/local/anaconda3/envs/dgm/lib/python3.9/site-packages/torch/nn/modules/module.py?line=1497'>1498</a>\u001b[0m \u001b[39mif\u001b[39;00m \u001b[39mnot\u001b[39;00m (\u001b[39mself\u001b[39m\u001b[39m.\u001b[39m_backward_hooks \u001b[39mor\u001b[39;00m \u001b[39mself\u001b[39m\u001b[39m.\u001b[39m_backward_pre_hooks \u001b[39mor\u001b[39;00m \u001b[39mself\u001b[39m\u001b[39m.\u001b[39m_forward_hooks \u001b[39mor\u001b[39;00m \u001b[39mself\u001b[39m\u001b[39m.\u001b[39m_forward_pre_hooks\n\u001b[1;32m   <a href='file:///usr/local/anaconda3/envs/dgm/lib/python3.9/site-packages/torch/nn/modules/module.py?line=1498'>1499</a>\u001b[0m         \u001b[39mor\u001b[39;00m _global_backward_pre_hooks \u001b[39mor\u001b[39;00m _global_backward_hooks\n\u001b[1;32m   <a href='file:///usr/local/anaconda3/envs/dgm/lib/python3.9/site-packages/torch/nn/modules/module.py?line=1499'>1500</a>\u001b[0m         \u001b[39mor\u001b[39;00m _global_forward_hooks \u001b[39mor\u001b[39;00m _global_forward_pre_hooks):\n\u001b[0;32m-> <a href='file:///usr/local/anaconda3/envs/dgm/lib/python3.9/site-packages/torch/nn/modules/module.py?line=1500'>1501</a>\u001b[0m     \u001b[39mreturn\u001b[39;00m forward_call(\u001b[39m*\u001b[39;49margs, \u001b[39m*\u001b[39;49m\u001b[39m*\u001b[39;49mkwargs)\n\u001b[1;32m   <a href='file:///usr/local/anaconda3/envs/dgm/lib/python3.9/site-packages/torch/nn/modules/module.py?line=1501'>1502</a>\u001b[0m \u001b[39m# Do not call functions when jit is used\u001b[39;00m\n\u001b[1;32m   <a href='file:///usr/local/anaconda3/envs/dgm/lib/python3.9/site-packages/torch/nn/modules/module.py?line=1502'>1503</a>\u001b[0m full_backward_hooks, non_full_backward_hooks \u001b[39m=\u001b[39m [], []\n",
      "File \u001b[0;32m/usr/local/anaconda3/envs/dgm/lib/python3.9/site-packages/torch/nn/modules/padding.py:178\u001b[0m, in \u001b[0;36m_ReflectionPadNd.forward\u001b[0;34m(self, input)\u001b[0m\n\u001b[1;32m    <a href='file:///usr/local/anaconda3/envs/dgm/lib/python3.9/site-packages/torch/nn/modules/padding.py?line=176'>177</a>\u001b[0m \u001b[39mdef\u001b[39;00m \u001b[39mforward\u001b[39m(\u001b[39mself\u001b[39m, \u001b[39minput\u001b[39m: Tensor) \u001b[39m-\u001b[39m\u001b[39m>\u001b[39m Tensor:\n\u001b[0;32m--> <a href='file:///usr/local/anaconda3/envs/dgm/lib/python3.9/site-packages/torch/nn/modules/padding.py?line=177'>178</a>\u001b[0m     \u001b[39mreturn\u001b[39;00m F\u001b[39m.\u001b[39;49mpad(\u001b[39minput\u001b[39;49m, \u001b[39mself\u001b[39;49m\u001b[39m.\u001b[39;49mpadding, \u001b[39m'\u001b[39;49m\u001b[39mreflect\u001b[39;49m\u001b[39m'\u001b[39;49m)\n",
      "\u001b[0;31mTypeError\u001b[0m: pad(): argument 'input' (position 1) must be Tensor, not str"
     ]
    }
   ],
   "source": [
    "trainer.fit(model, datamodule=datamodule)"
   ]
  },
  {
   "cell_type": "code",
   "execution_count": 10,
   "metadata": {},
   "outputs": [],
   "source": [
    "test = datamodule.test_dataloader()"
   ]
  },
  {
   "cell_type": "code",
   "execution_count": 11,
   "metadata": {},
   "outputs": [],
   "source": [
    "a = next(iter(test))"
   ]
  },
  {
   "cell_type": "code",
   "execution_count": 19,
   "metadata": {},
   "outputs": [],
   "source": [
    "batch = next(iter(test))\n",
    "test_image_A, test_label_A, test_image_B, test_label_B = *batch['A'], *batch[\"B\"]"
   ]
  },
  {
   "cell_type": "code",
   "execution_count": 21,
   "metadata": {},
   "outputs": [
    {
     "data": {
      "text/plain": [
       "tensor([5, 2, 1, 0, 6, 1, 9, 1])"
      ]
     },
     "execution_count": 21,
     "metadata": {},
     "output_type": "execute_result"
    }
   ],
   "source": [
    "test_label_A"
   ]
  },
  {
   "cell_type": "code",
   "execution_count": 18,
   "metadata": {},
   "outputs": [
    {
     "data": {
      "text/plain": [
       "tensor([[[[-0.7020, -0.6941, -0.6941,  ..., -0.6784, -0.6706, -0.6941],\n",
       "          [-0.6941, -0.6941, -0.6941,  ..., -0.6784, -0.6627, -0.6941],\n",
       "          [-0.7020, -0.7098, -0.6941,  ..., -0.6627, -0.6627, -0.6941],\n",
       "          ...,\n",
       "          [-0.5922, -0.5843, -0.6000,  ..., -0.6549, -0.6549, -0.6784],\n",
       "          [-0.6078, -0.6000, -0.6157,  ..., -0.6549, -0.6471, -0.6706],\n",
       "          [-0.6235, -0.6235, -0.6392,  ..., -0.6627, -0.6549, -0.6706]],\n",
       "\n",
       "         [[-0.1922, -0.1843, -0.1843,  ..., -0.2000, -0.1922, -0.2392],\n",
       "          [-0.1843, -0.1843, -0.1843,  ..., -0.2000, -0.2078, -0.2392],\n",
       "          [-0.1765, -0.1843, -0.1686,  ..., -0.2078, -0.2157, -0.2392],\n",
       "          ...,\n",
       "          [-0.0667, -0.0588, -0.0745,  ..., -0.0745, -0.0824, -0.1059],\n",
       "          [-0.0824, -0.0745, -0.0902,  ..., -0.0824, -0.0902, -0.1137],\n",
       "          [-0.0980, -0.0980, -0.1137,  ..., -0.0902, -0.0980, -0.1137]],\n",
       "\n",
       "         [[-0.5294, -0.5216, -0.5137,  ..., -0.5216, -0.5137, -0.5529],\n",
       "          [-0.5216, -0.5216, -0.5137,  ..., -0.5216, -0.5059, -0.5529],\n",
       "          [-0.5137, -0.5216, -0.5059,  ..., -0.5059, -0.4980, -0.5373],\n",
       "          ...,\n",
       "          [-0.3882, -0.3804, -0.3961,  ..., -0.4588, -0.4431, -0.4588],\n",
       "          [-0.4039, -0.3961, -0.4118,  ..., -0.4431, -0.4353, -0.4588],\n",
       "          [-0.4196, -0.4196, -0.4353,  ..., -0.4431, -0.4431, -0.4431]]],\n",
       "\n",
       "\n",
       "        [[[ 0.0118, -0.0039, -0.0196,  ..., -0.0510, -0.0353, -0.0353],\n",
       "          [ 0.0510,  0.0431,  0.0353,  ..., -0.0039, -0.0118, -0.0196],\n",
       "          [ 0.1059,  0.0980,  0.0980,  ...,  0.0588,  0.0353,  0.0196],\n",
       "          ...,\n",
       "          [ 0.1529,  0.1137,  0.0667,  ..., -0.2706, -0.2471, -0.1843],\n",
       "          [ 0.0824,  0.0196, -0.0510,  ..., -0.2706, -0.2078, -0.1216],\n",
       "          [ 0.0275, -0.0431, -0.1294,  ..., -0.2078, -0.1294, -0.0353]],\n",
       "\n",
       "         [[ 0.1137,  0.1216,  0.1216,  ...,  0.0431,  0.0510,  0.0588],\n",
       "          [ 0.1765,  0.1686,  0.1686,  ...,  0.0824,  0.0745,  0.0745],\n",
       "          [ 0.2392,  0.2314,  0.2314,  ...,  0.1529,  0.1216,  0.1059],\n",
       "          ...,\n",
       "          [ 0.2627,  0.2235,  0.1843,  ..., -0.2392, -0.2157, -0.1451],\n",
       "          [ 0.1922,  0.1294,  0.0667,  ..., -0.2235, -0.1608, -0.0745],\n",
       "          [ 0.1373,  0.0667, -0.0118,  ..., -0.1529, -0.0745,  0.0196]],\n",
       "\n",
       "         [[ 0.2000,  0.1922,  0.1843,  ...,  0.2000,  0.2235,  0.2314],\n",
       "          [ 0.2549,  0.2392,  0.2314,  ...,  0.2314,  0.2314,  0.2392],\n",
       "          [ 0.3176,  0.3020,  0.2941,  ...,  0.2784,  0.2627,  0.2549],\n",
       "          ...,\n",
       "          [ 0.3647,  0.3255,  0.2784,  ..., -0.0118,  0.0039,  0.0667],\n",
       "          [ 0.2941,  0.2314,  0.1608,  ...,  0.0039,  0.0510,  0.1294],\n",
       "          [ 0.2392,  0.1686,  0.0902,  ...,  0.0588,  0.1294,  0.2235]]],\n",
       "\n",
       "\n",
       "        [[[ 0.1765,  0.1765,  0.1922,  ...,  0.2000,  0.1765,  0.1529],\n",
       "          [ 0.1765,  0.1843,  0.2000,  ...,  0.2235,  0.2000,  0.1765],\n",
       "          [ 0.1294,  0.1451,  0.1608,  ...,  0.2314,  0.2000,  0.1765],\n",
       "          ...,\n",
       "          [ 0.0588,  0.0510,  0.0353,  ..., -0.0275, -0.0431, -0.0510],\n",
       "          [ 0.1529,  0.1529,  0.1529,  ...,  0.0902,  0.0902,  0.0824],\n",
       "          [ 0.2471,  0.2471,  0.2471,  ...,  0.1922,  0.1922,  0.1922]],\n",
       "\n",
       "         [[ 0.2549,  0.2784,  0.3176,  ...,  0.3490,  0.3412,  0.3255],\n",
       "          [ 0.2549,  0.2784,  0.3176,  ...,  0.3647,  0.3412,  0.3255],\n",
       "          [ 0.2078,  0.2314,  0.2706,  ...,  0.3490,  0.3176,  0.2941],\n",
       "          ...,\n",
       "          [ 0.1765,  0.1686,  0.1529,  ...,  0.0980,  0.0902,  0.0824],\n",
       "          [ 0.2941,  0.2863,  0.2863,  ...,  0.2157,  0.2157,  0.2157],\n",
       "          [ 0.3882,  0.3882,  0.3882,  ...,  0.3176,  0.3176,  0.3176]],\n",
       "\n",
       "         [[ 0.3255,  0.3333,  0.3490,  ...,  0.4118,  0.4196,  0.4118],\n",
       "          [ 0.3255,  0.3255,  0.3412,  ...,  0.4118,  0.4118,  0.4039],\n",
       "          [ 0.2784,  0.2784,  0.2941,  ...,  0.3882,  0.3725,  0.3569],\n",
       "          ...,\n",
       "          [ 0.3098,  0.3020,  0.2941,  ...,  0.2314,  0.2314,  0.2392],\n",
       "          [ 0.4039,  0.4039,  0.4039,  ...,  0.3333,  0.3333,  0.3412],\n",
       "          [ 0.4824,  0.4902,  0.4980,  ...,  0.4196,  0.4275,  0.4353]]],\n",
       "\n",
       "\n",
       "        ...,\n",
       "\n",
       "\n",
       "        [[[-0.4118, -0.4196, -0.4431,  ..., -0.4353, -0.4353, -0.4353],\n",
       "          [-0.4275, -0.4353, -0.4588,  ..., -0.4353, -0.4275, -0.4275],\n",
       "          [-0.4588, -0.4667, -0.4824,  ..., -0.4353, -0.4196, -0.4196],\n",
       "          ...,\n",
       "          [-0.3255, -0.3176, -0.2941,  ..., -0.4039, -0.4353, -0.4431],\n",
       "          [-0.3255, -0.3255, -0.3176,  ..., -0.3961, -0.4275, -0.4353],\n",
       "          [-0.3255, -0.3255, -0.3255,  ..., -0.3961, -0.4196, -0.4275]],\n",
       "\n",
       "         [[-0.3569, -0.3647, -0.3882,  ..., -0.3647, -0.3647, -0.3647],\n",
       "          [-0.3725, -0.3804, -0.3961,  ..., -0.3647, -0.3569, -0.3569],\n",
       "          [-0.4118, -0.4196, -0.4196,  ..., -0.3569, -0.3412, -0.3412],\n",
       "          ...,\n",
       "          [-0.2784, -0.2706, -0.2549,  ..., -0.3725, -0.4039, -0.4118],\n",
       "          [-0.2941, -0.2863, -0.2706,  ..., -0.3647, -0.3961, -0.4039],\n",
       "          [-0.3020, -0.2941, -0.2784,  ..., -0.3647, -0.3882, -0.3961]],\n",
       "\n",
       "         [[-0.2784, -0.2863, -0.3098,  ..., -0.2941, -0.3020, -0.3098],\n",
       "          [-0.2863, -0.2941, -0.3176,  ..., -0.2941, -0.3020, -0.3020],\n",
       "          [-0.3176, -0.3255, -0.3333,  ..., -0.2863, -0.2863, -0.2863],\n",
       "          ...,\n",
       "          [-0.1608, -0.1529, -0.1373,  ..., -0.2863, -0.3176, -0.3255],\n",
       "          [-0.1765, -0.1765, -0.1686,  ..., -0.2784, -0.3098, -0.3255],\n",
       "          [-0.1843, -0.1843, -0.1843,  ..., -0.2784, -0.3098, -0.3255]]],\n",
       "\n",
       "\n",
       "        [[[-0.9373, -0.9529, -0.9529,  ..., -0.8510, -0.8745, -0.8902],\n",
       "          [-0.9137, -0.9451, -0.9451,  ..., -0.8353, -0.8588, -0.8824],\n",
       "          [-0.9059, -0.9373, -0.9294,  ..., -0.8275, -0.8510, -0.8745],\n",
       "          ...,\n",
       "          [-0.8980, -0.9216, -0.9137,  ..., -0.8275, -0.8431, -0.8588],\n",
       "          [-0.8980, -0.9059, -0.9059,  ..., -0.8275, -0.8510, -0.8588],\n",
       "          [-0.8902, -0.8902, -0.8902,  ..., -0.7961, -0.8275, -0.8431]],\n",
       "\n",
       "         [[-0.8980, -0.9137, -0.9137,  ..., -0.8196, -0.8353, -0.8510],\n",
       "          [-0.8902, -0.9059, -0.9059,  ..., -0.7961, -0.8196, -0.8431],\n",
       "          [-0.8824, -0.9059, -0.8902,  ..., -0.7882, -0.8118, -0.8353],\n",
       "          ...,\n",
       "          [-0.8745, -0.8980, -0.8902,  ..., -0.8431, -0.8588, -0.8745],\n",
       "          [-0.8745, -0.8824, -0.8824,  ..., -0.8353, -0.8510, -0.8588],\n",
       "          [-0.8588, -0.8667, -0.8667,  ..., -0.8039, -0.8275, -0.8353]],\n",
       "\n",
       "         [[-0.9451, -0.9608, -0.9608,  ..., -0.8431, -0.8667, -0.8824],\n",
       "          [-0.9451, -0.9608, -0.9608,  ..., -0.8275, -0.8510, -0.8745],\n",
       "          [-0.9373, -0.9608, -0.9451,  ..., -0.8196, -0.8431, -0.8667],\n",
       "          ...,\n",
       "          [-0.8353, -0.8510, -0.8510,  ..., -0.7255, -0.7490, -0.7569],\n",
       "          [-0.8118, -0.8196, -0.8275,  ..., -0.7098, -0.7255, -0.7176],\n",
       "          [-0.7725, -0.7882, -0.8039,  ..., -0.6706, -0.6863, -0.6784]]],\n",
       "\n",
       "\n",
       "        [[[-0.7020, -0.7020, -0.7176,  ..., -0.6314, -0.6549, -0.6784],\n",
       "          [-0.7020, -0.7020, -0.7176,  ..., -0.5922, -0.6392, -0.6784],\n",
       "          [-0.7020, -0.7020, -0.7176,  ..., -0.5216, -0.6078, -0.6706],\n",
       "          ...,\n",
       "          [-0.7647, -0.7647, -0.7725,  ..., -0.6627, -0.6549, -0.6471],\n",
       "          [-0.7569, -0.7569, -0.7569,  ..., -0.6784, -0.6549, -0.6314],\n",
       "          [-0.7490, -0.7412, -0.7412,  ..., -0.6863, -0.6549, -0.6157]],\n",
       "\n",
       "         [[-0.7412, -0.7490, -0.7490,  ..., -0.5451, -0.5765, -0.5922],\n",
       "          [-0.7412, -0.7490, -0.7490,  ..., -0.4824, -0.5373, -0.5765],\n",
       "          [-0.7412, -0.7490, -0.7490,  ..., -0.4118, -0.4980, -0.5608],\n",
       "          ...,\n",
       "          [-0.7569, -0.7569, -0.7569,  ..., -0.7020, -0.6863, -0.6627],\n",
       "          [-0.7569, -0.7490, -0.7490,  ..., -0.7098, -0.6784, -0.6392],\n",
       "          [-0.7490, -0.7412, -0.7412,  ..., -0.7098, -0.6627, -0.6235]],\n",
       "\n",
       "         [[-0.7098, -0.7176, -0.7176,  ..., -0.5137, -0.5529, -0.5765],\n",
       "          [-0.7098, -0.7176, -0.7176,  ..., -0.4588, -0.5137, -0.5529],\n",
       "          [-0.7098, -0.7098, -0.7098,  ..., -0.3882, -0.4745, -0.5373],\n",
       "          ...,\n",
       "          [-0.7412, -0.7412, -0.7412,  ..., -0.6706, -0.6706, -0.6549],\n",
       "          [-0.7412, -0.7412, -0.7412,  ..., -0.6863, -0.6627, -0.6392],\n",
       "          [-0.7490, -0.7412, -0.7412,  ..., -0.6941, -0.6627, -0.6392]]]])"
      ]
     },
     "execution_count": 18,
     "metadata": {},
     "output_type": "execute_result"
    }
   ],
   "source": [
    "a['A'][0]"
   ]
  },
  {
   "cell_type": "code",
   "execution_count": null,
   "metadata": {},
   "outputs": [],
   "source": []
  }
 ],
 "metadata": {
  "interpreter": {
   "hash": "15bb87710bc6ec9f167469a41139a1243c978bc460abede3abe5901f6348c029"
  },
  "kernelspec": {
   "display_name": "Python 3.9.16 ('dgm')",
   "language": "python",
   "name": "python3"
  },
  "language_info": {
   "codemirror_mode": {
    "name": "ipython",
    "version": 3
   },
   "file_extension": ".py",
   "mimetype": "text/x-python",
   "name": "python",
   "nbconvert_exporter": "python",
   "pygments_lexer": "ipython3",
   "version": "3.9.16"
  },
  "orig_nbformat": 4
 },
 "nbformat": 4,
 "nbformat_minor": 2
}
