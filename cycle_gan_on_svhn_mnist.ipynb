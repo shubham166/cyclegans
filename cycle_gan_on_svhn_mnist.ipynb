{
 "cells": [
  {
   "cell_type": "code",
   "execution_count": 1,
   "metadata": {},
   "outputs": [],
   "source": [
    "import torch\n",
    "from models.CycleGan import CycleGan\n",
    "from models.SHVN_MNIST_dataset import ShvnMnistDataset\n",
    "from torch.utils.data import DataLoader\n",
    "from torchvision import transforms\n",
    "from PIL import Image\n",
    "import pytorch_lightning as pl"
   ]
  },
  {
   "cell_type": "code",
   "execution_count": 2,
   "metadata": {},
   "outputs": [],
   "source": [
    "batch_size = 8\n",
    "accelerator = \"cpu\"\n",
    "devices = 1\n",
    "max_epochs = 1\n",
    "num_workers = 0\n",
    "pin_memory = False"
   ]
  },
  {
   "cell_type": "code",
   "execution_count": 6,
   "metadata": {},
   "outputs": [
    {
     "name": "stdout",
     "output_type": "stream",
     "text": [
      "Using downloaded and verified file: ./Data/svhn/train_32x32.mat\n"
     ]
    }
   ],
   "source": [
    "root = \"./Data\"\n",
    "train = ShvnMnistDataset(root, 'train')\n",
    "# train = DataLoader(train, batch_size=batch_size, shuffle=True)\n",
    "train =  DataLoader(\n",
    "            train,\n",
    "            batch_size=batch_size,\n",
    "            num_workers=num_workers,\n",
    "            shuffle=True,\n",
    "            pin_memory=pin_memory,\n",
    "        )\n",
    "model = CycleGan()"
   ]
  },
  {
   "cell_type": "code",
   "execution_count": 7,
   "metadata": {},
   "outputs": [
    {
     "name": "stderr",
     "output_type": "stream",
     "text": [
      "GPU available: False, used: False\n",
      "TPU available: False, using: 0 TPU cores\n",
      "IPU available: False, using: 0 IPUs\n",
      "HPU available: False, using: 0 HPUs\n",
      "\n",
      "  | Name | Type       | Params\n",
      "------------------------------------\n",
      "0 | genX | Sequential | 11.4 M\n",
      "1 | genY | Sequential | 11.4 M\n",
      "2 | disX | Sequential | 2.8 M \n",
      "3 | disY | Sequential | 2.8 M \n",
      "------------------------------------\n",
      "28.3 M    Trainable params\n",
      "0         Non-trainable params\n",
      "28.3 M    Total params\n",
      "113.143   Total estimated model params size (MB)\n"
     ]
    },
    {
     "name": "stdout",
     "output_type": "stream",
     "text": [
      "Epoch 0:   0%|          | 0/7500 [00:00<?, ?it/s] "
     ]
    }
   ],
   "source": [
    "trainer = pl.Trainer(accelerator=accelerator, devices=devices, max_epochs=max_epochs)\n",
    "trainer.fit(model, train)"
   ]
  }
 ],
 "metadata": {
  "interpreter": {
   "hash": "15bb87710bc6ec9f167469a41139a1243c978bc460abede3abe5901f6348c029"
  },
  "kernelspec": {
   "display_name": "Python 3.9.16 ('dgm')",
   "language": "python",
   "name": "python3"
  },
  "language_info": {
   "codemirror_mode": {
    "name": "ipython",
    "version": 3
   },
   "file_extension": ".py",
   "mimetype": "text/x-python",
   "name": "python",
   "nbconvert_exporter": "python",
   "pygments_lexer": "ipython3",
   "version": "3.9.16"
  },
  "orig_nbformat": 4
 },
 "nbformat": 4,
 "nbformat_minor": 2
}
